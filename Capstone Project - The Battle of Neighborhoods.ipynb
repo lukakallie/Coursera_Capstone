{
    "cells": [
        {
            "cell_type": "markdown",
            "metadata": {},
            "source": "# Capstone Project - The Battle of Neighborhoods (Week 1)"
        },
        {
            "cell_type": "markdown",
            "metadata": {},
            "source": "## Introduction/Business Problem"
        },
        {
            "cell_type": "markdown",
            "metadata": {},
            "source": "### Description of the problem and background"
        },
        {
            "cell_type": "markdown",
            "metadata": {},
            "source": "A London theatre is looking to open a new show in the West End later this year. With covid-19 shutting down theatres across the world, it's important that they pick the right show to attract customers and get the theatre back up and running. "
        },
        {
            "cell_type": "markdown",
            "metadata": {},
            "source": "London is home to the West End, one of the most famous theatre districts in the world. Every year, it shows and premieres lots of musicals and plays. Recent success stories include the play Harry Potter and the Cursed Child and Six the Musical. According to uktheatre.org, in 2018, London's West End theatres drew in audiences totaling over 15.5m last year, resulting in box office revenue of over \u00a3765m \u2013 both record figures, generating over \u00a3127m in VAT for the Treasury. It is also a big drawing factor for tourists who visit London each year.\n\nSince March 2020, the theatres in the West End all had to close due to the Covid-19 pandemic. This is having a detrimental affect on the theatre and entertaiment industry, with ticket sales dropping by 92% (ref - https://www.theguardian.com/stage/2020/mar/19/uk-theatre-ticket-sales-drop-92-percent-due-to-covid-19). As theatres have hundreds of audience seats in close proximity to each other (i.e. a hotbed for spreading Covid-19), it looks like it will be some time before theatres will be able to reopen.\n\nDue to social distancing restrictions (people from different households must stay 2m apart), it's likely that when theatres do reopen, they will have to function differently to how they did previously, selling less seats per show so that social distancing can take place. This will undoubtedly cause a further loss in revenue for the theatres.\n\nWith the West End (and shows in general) being such a cultural asset to London and draw to tourists (another industry (tourism) that has suffered because of Covid-19 and social distancing requirements), it is really important that the theatres survive the pandemic, particularly as many people watch shows as a way to unwind and cope with stress. A likely outcome will be that ticket prices will increase due to less seats being sold per show. Therefore, it's really important for theatres to choose and advertise shows that they think will draw customers to buy tickets at an increased price.\n\nThe target audience for this study will be theatre owners who are looking to see what shows they should look at opening to bring back customers following the pandemic. They should be able to apply my model to any city."
        },
        {
            "cell_type": "markdown",
            "metadata": {},
            "source": "## Data"
        },
        {
            "cell_type": "markdown",
            "metadata": {},
            "source": "### Description of the data and how it will be used to solve the problem"
        },
        {
            "cell_type": "markdown",
            "metadata": {},
            "source": "In the previous tasks, we looked at the types of venues in New York and Toronto neighborhoods using FourSquare. In this task I will look at London data of theatres using the FourSquare API.\n\nI will join this data with data on what shows are running in the West End theatres. I have gathered the data for this from https://www.londontheatre.co.uk/theatres (as of 21st May 2020) and got some further information on the shows from Wikipedia. See the dataset below."
        },
        {
            "cell_type": "code",
            "execution_count": 22,
            "metadata": {},
            "outputs": [],
            "source": "# The code was removed by Watson Studio for sharing."
        },
        {
            "cell_type": "code",
            "execution_count": 23,
            "metadata": {},
            "outputs": [
                {
                    "data": {
                        "text/html": "<div>\n<style scoped>\n    .dataframe tbody tr th:only-of-type {\n        vertical-align: middle;\n    }\n\n    .dataframe tbody tr th {\n        vertical-align: top;\n    }\n\n    .dataframe thead th {\n        text-align: right;\n    }\n</style>\n<table border=\"1\" class=\"dataframe\">\n  <thead>\n    <tr style=\"text-align: right;\">\n      <th></th>\n      <th>Theatre</th>\n      <th>Show name</th>\n      <th>In dataset</th>\n      <th>Premiere year</th>\n      <th>Performance type</th>\n      <th>Genre</th>\n      <th>Oriign</th>\n    </tr>\n  </thead>\n  <tbody>\n    <tr>\n      <th>2</th>\n      <td>Savoy Theatre</td>\n      <td>9 to 5 the Musical</td>\n      <td>Yes</td>\n      <td>2009.0</td>\n      <td>Musical</td>\n      <td>Jukebox</td>\n      <td>USA</td>\n    </tr>\n    <tr>\n      <th>4</th>\n      <td>Playhouse Theatre</td>\n      <td>A Doll's House</td>\n      <td>Yes</td>\n      <td>1879.0</td>\n      <td>Play</td>\n      <td>Naturalistic / realistic problem play\\nModern ...</td>\n      <td>Denmark</td>\n    </tr>\n    <tr>\n      <th>9</th>\n      <td>Garrick Theatre</td>\n      <td>City of Angels</td>\n      <td>Yes</td>\n      <td>1989.0</td>\n      <td>Musical</td>\n      <td>Comedy</td>\n      <td>USA</td>\n    </tr>\n    <tr>\n      <th>11</th>\n      <td>Adelphi Theatre</td>\n      <td>Concert of the Secret Garden</td>\n      <td>Yes</td>\n      <td>1991.0</td>\n      <td>Musical</td>\n      <td>Children</td>\n      <td>USA</td>\n    </tr>\n    <tr>\n      <th>12</th>\n      <td>Noel Coward Theatre</td>\n      <td>Dear Evan Hansen</td>\n      <td>Yes</td>\n      <td>2016.0</td>\n      <td>Musical</td>\n      <td>Pop</td>\n      <td>USA</td>\n    </tr>\n    <tr>\n      <th>13</th>\n      <td>Lyceum Theatre</td>\n      <td>Disney's The Lion King</td>\n      <td>Yes</td>\n      <td>1997.0</td>\n      <td>Musical</td>\n      <td>Disney</td>\n      <td>USA</td>\n    </tr>\n    <tr>\n      <th>14</th>\n      <td>Apollo Theatre</td>\n      <td>Everybody's Talking About Jamie</td>\n      <td>Yes</td>\n      <td>2017.0</td>\n      <td>Musical</td>\n      <td>Pop</td>\n      <td>United Kingdom</td>\n    </tr>\n    <tr>\n      <th>20</th>\n      <td>Palace Theatre</td>\n      <td>Harry Potter and the Cursed Child</td>\n      <td>Yes</td>\n      <td>2016.0</td>\n      <td>Play</td>\n      <td>Children</td>\n      <td>United Kingdom</td>\n    </tr>\n    <tr>\n      <th>22</th>\n      <td>Apollo Theatre</td>\n      <td>Horrible Histories - Barmy Britain - Part 5</td>\n      <td>Yes</td>\n      <td>2020.0</td>\n      <td>Play</td>\n      <td>Children</td>\n      <td>United Kingdom</td>\n    </tr>\n    <tr>\n      <th>31</th>\n      <td>Novello Theatre</td>\n      <td>MAMMA MIA!</td>\n      <td>Yes</td>\n      <td>1999.0</td>\n      <td>Musical</td>\n      <td>Jukebox</td>\n      <td>United Kingdom</td>\n    </tr>\n    <tr>\n      <th>36</th>\n      <td>Theatre Royal Haymarket</td>\n      <td>Only Fools and Horses - The Musical</td>\n      <td>Yes</td>\n      <td>2019.0</td>\n      <td>Musical</td>\n      <td>TV</td>\n      <td>United Kingdom</td>\n    </tr>\n    <tr>\n      <th>37</th>\n      <td>Piccadilly Theatre</td>\n      <td>Pretty Woman: The Musical</td>\n      <td>Yes</td>\n      <td>2018.0</td>\n      <td>Musical</td>\n      <td>TV</td>\n      <td>USA</td>\n    </tr>\n    <tr>\n      <th>39</th>\n      <td>Arts Theatre</td>\n      <td>SIX the Musical</td>\n      <td>Yes</td>\n      <td>2017.0</td>\n      <td>Musical</td>\n      <td>Pop</td>\n      <td>United Kingdom</td>\n    </tr>\n    <tr>\n      <th>41</th>\n      <td>Prince of Wales Theatre</td>\n      <td>The Book of Mormon</td>\n      <td>Yes</td>\n      <td>2011.0</td>\n      <td>Musical</td>\n      <td>Comedy</td>\n      <td>USA</td>\n    </tr>\n    <tr>\n      <th>43</th>\n      <td>Duke of York's Theatre</td>\n      <td>The Doctor</td>\n      <td>Yes</td>\n      <td>1912.0</td>\n      <td>Play</td>\n      <td>Naturalistic, historical</td>\n      <td>Austria</td>\n    </tr>\n    <tr>\n      <th>44</th>\n      <td>Garrick Theatre</td>\n      <td>The Drifters Girl</td>\n      <td>Yes</td>\n      <td>2020.0</td>\n      <td>Musical</td>\n      <td>Jukebox</td>\n      <td>United Kingdom</td>\n    </tr>\n    <tr>\n      <th>45</th>\n      <td>St. Martin's Theatre</td>\n      <td>The Mousetrap</td>\n      <td>Yes</td>\n      <td>1974.0</td>\n      <td>Play</td>\n      <td>Murder mystery</td>\n      <td>United Kingdom</td>\n    </tr>\n    <tr>\n      <th>46</th>\n      <td>Duke of York's Theatre</td>\n      <td>The Ocean At The End Of The Lane</td>\n      <td>Yes</td>\n      <td>2020.0</td>\n      <td>Play</td>\n      <td>Book</td>\n      <td>United Kingdom</td>\n    </tr>\n    <tr>\n      <th>48</th>\n      <td>Duke of York's Theatre</td>\n      <td>The Pillowman</td>\n      <td>Yes</td>\n      <td>2003.0</td>\n      <td>Play</td>\n      <td>Murder mystery</td>\n      <td>United Kingdom</td>\n    </tr>\n    <tr>\n      <th>52</th>\n      <td>Ambassadors Theatre</td>\n      <td>The Shark Is Broken</td>\n      <td>Yes</td>\n      <td>2019.0</td>\n      <td>Play</td>\n      <td>Comedy</td>\n      <td>United Kingdom</td>\n    </tr>\n    <tr>\n      <th>53</th>\n      <td>Theatre Royal Haymarket</td>\n      <td>The Tiger Who Came to Tea</td>\n      <td>Yes</td>\n      <td>2020.0</td>\n      <td>Play</td>\n      <td>Children</td>\n      <td>United Kingdom</td>\n    </tr>\n    <tr>\n      <th>54</th>\n      <td>Harold Pinter Theatre</td>\n      <td>The Watsons</td>\n      <td>Yes</td>\n      <td>2020.0</td>\n      <td>Play</td>\n      <td>Naturalistic, historical</td>\n      <td>United Kingdom</td>\n    </tr>\n    <tr>\n      <th>56</th>\n      <td>Aldwych Theatre</td>\n      <td>TINA - The Tina Turner Musical</td>\n      <td>Yes</td>\n      <td>2018.0</td>\n      <td>Musical</td>\n      <td>Jukebox</td>\n      <td>United Kingdom</td>\n    </tr>\n    <tr>\n      <th>57</th>\n      <td>Gielgud Theatre</td>\n      <td>To Kill A Mockingbird</td>\n      <td>Yes</td>\n      <td>2019.0</td>\n      <td>Play</td>\n      <td>Book</td>\n      <td>USA</td>\n    </tr>\n    <tr>\n      <th>58</th>\n      <td>Adelphi Theatre</td>\n      <td>Waitress</td>\n      <td>Yes</td>\n      <td>2015.0</td>\n      <td>Musical</td>\n      <td>Jukebox</td>\n      <td>USA</td>\n    </tr>\n  </tbody>\n</table>\n</div>",
                        "text/plain": "                    Theatre                                    Show name  \\\n2             Savoy Theatre                           9 to 5 the Musical   \n4         Playhouse Theatre                               A Doll's House   \n9           Garrick Theatre                               City of Angels   \n11          Adelphi Theatre                 Concert of the Secret Garden   \n12      Noel Coward Theatre                             Dear Evan Hansen   \n13           Lyceum Theatre                       Disney's The Lion King   \n14           Apollo Theatre              Everybody's Talking About Jamie   \n20           Palace Theatre            Harry Potter and the Cursed Child   \n22           Apollo Theatre  Horrible Histories - Barmy Britain - Part 5   \n31          Novello Theatre                                   MAMMA MIA!   \n36  Theatre Royal Haymarket          Only Fools and Horses - The Musical   \n37       Piccadilly Theatre                    Pretty Woman: The Musical   \n39             Arts Theatre                              SIX the Musical   \n41  Prince of Wales Theatre                           The Book of Mormon   \n43   Duke of York's Theatre                                   The Doctor   \n44          Garrick Theatre                            The Drifters Girl   \n45     St. Martin's Theatre                                The Mousetrap   \n46   Duke of York's Theatre             The Ocean At The End Of The Lane   \n48   Duke of York's Theatre                                The Pillowman   \n52      Ambassadors Theatre                          The Shark Is Broken   \n53  Theatre Royal Haymarket                    The Tiger Who Came to Tea   \n54    Harold Pinter Theatre                                  The Watsons   \n56          Aldwych Theatre               TINA - The Tina Turner Musical   \n57          Gielgud Theatre                        To Kill A Mockingbird   \n58          Adelphi Theatre                                     Waitress   \n\n   In dataset  Premiere year Performance type  \\\n2         Yes         2009.0          Musical   \n4         Yes         1879.0             Play   \n9         Yes         1989.0          Musical   \n11        Yes         1991.0          Musical   \n12        Yes         2016.0          Musical   \n13        Yes         1997.0          Musical   \n14        Yes         2017.0          Musical   \n20        Yes         2016.0             Play   \n22        Yes         2020.0             Play   \n31        Yes         1999.0          Musical   \n36        Yes         2019.0          Musical   \n37        Yes         2018.0          Musical   \n39        Yes         2017.0          Musical   \n41        Yes         2011.0          Musical   \n43        Yes         1912.0             Play   \n44        Yes         2020.0          Musical   \n45        Yes         1974.0             Play   \n46        Yes         2020.0             Play   \n48        Yes         2003.0             Play   \n52        Yes         2019.0             Play   \n53        Yes         2020.0             Play   \n54        Yes         2020.0             Play   \n56        Yes         2018.0          Musical   \n57        Yes         2019.0             Play   \n58        Yes         2015.0          Musical   \n\n                                                Genre          Oriign  \n2                                             Jukebox             USA  \n4   Naturalistic / realistic problem play\\nModern ...         Denmark  \n9                                              Comedy             USA  \n11                                           Children             USA  \n12                                                Pop             USA  \n13                                             Disney             USA  \n14                                                Pop  United Kingdom  \n20                                           Children  United Kingdom  \n22                                           Children  United Kingdom  \n31                                            Jukebox  United Kingdom  \n36                                                 TV  United Kingdom  \n37                                                 TV             USA  \n39                                                Pop  United Kingdom  \n41                                             Comedy             USA  \n43                           Naturalistic, historical         Austria  \n44                                            Jukebox  United Kingdom  \n45                                     Murder mystery  United Kingdom  \n46                                               Book  United Kingdom  \n48                                     Murder mystery  United Kingdom  \n52                                             Comedy  United Kingdom  \n53                                           Children  United Kingdom  \n54                           Naturalistic, historical  United Kingdom  \n56                                            Jukebox  United Kingdom  \n57                                               Book             USA  \n58                                            Jukebox             USA  "
                    },
                    "execution_count": 23,
                    "metadata": {},
                    "output_type": "execute_result"
                }
            ],
            "source": "df_data_1 = pd.read_csv(body)\n\ndf_theatre = df_data_1.drop(['Unnamed: 7'], axis=1)\ndf_theatre.head()\ndf_theatre.dropna()"
        },
        {
            "cell_type": "markdown",
            "metadata": {},
            "source": "I will then look at the data and try to analyse the following:\n- what range of shows are currently available to book/have been postponed due to Covid-19\n- is there a link between location of the theatre and type of show that is running\n- are there any other links between location and data about the shows that are running"
        },
        {
            "cell_type": "code",
            "execution_count": null,
            "metadata": {},
            "outputs": [],
            "source": ""
        }
    ],
    "metadata": {
        "kernelspec": {
            "display_name": "Python 3.6",
            "language": "python",
            "name": "python3"
        },
        "language_info": {
            "codemirror_mode": {
                "name": "ipython",
                "version": 3
            },
            "file_extension": ".py",
            "mimetype": "text/x-python",
            "name": "python",
            "nbconvert_exporter": "python",
            "pygments_lexer": "ipython3",
            "version": "3.6.9"
        }
    },
    "nbformat": 4,
    "nbformat_minor": 1
}